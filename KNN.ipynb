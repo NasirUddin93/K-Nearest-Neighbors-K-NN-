{
 "cells": [
  {
   "cell_type": "markdown",
   "id": "2efb5daf",
   "metadata": {},
   "source": [
    "# K-Nearest Neighbors (K-NN)"
   ]
  },
  {
   "cell_type": "code",
   "execution_count": 1,
   "id": "d9e155c3",
   "metadata": {},
   "outputs": [],
   "source": [
    "#Assigning feature and label variable \n",
    "#Frist Feature\n",
    "weather = ['Sunny','Sunny','Overcast','Rainy','Rainy','Rainy','Overcast','Sunny','Sunny','Rainy','Sunny','Overcast','Overcast','Rainy']"
   ]
  },
  {
   "cell_type": "code",
   "execution_count": 2,
   "id": "727cb746",
   "metadata": {},
   "outputs": [],
   "source": [
    "#Second Feature\n",
    "temp = ['Hot','Hot','Hot','mild','Cool','Cool','Cool','mild','Cool','mild','mild','mild','mild','Hot','mild']"
   ]
  },
  {
   "cell_type": "code",
   "execution_count": 3,
   "id": "657827bf",
   "metadata": {},
   "outputs": [],
   "source": [
    "#Lable or target variable \n",
    "play = ['No','No','Yes','Yes','Yes','No','Yes','No','Yes','Yes','Yes','Yes','Yes','No']"
   ]
  },
  {
   "cell_type": "code",
   "execution_count": 4,
   "id": "1ac43371",
   "metadata": {},
   "outputs": [],
   "source": [
    "#Import LabelEncoder\n",
    "from sklearn import preprocessing "
   ]
  },
  {
   "cell_type": "code",
   "execution_count": 5,
   "id": "b93c450d",
   "metadata": {},
   "outputs": [],
   "source": [
    "#create LabelEncoder\n",
    "le = preprocessing.LabelEncoder()\n",
    "#Converting string labels into numbers\n",
    "wheathere_encoded = le.fit_transform(weather)"
   ]
  },
  {
   "cell_type": "code",
   "execution_count": 6,
   "id": "afbf26bb",
   "metadata": {},
   "outputs": [
    {
     "data": {
      "text/plain": [
       "array([2, 2, 0, 1, 1, 1, 0, 2, 2, 1, 2, 0, 0, 1])"
      ]
     },
     "execution_count": 6,
     "metadata": {},
     "output_type": "execute_result"
    }
   ],
   "source": [
    "wheathere_encoded"
   ]
  },
  {
   "cell_type": "code",
   "execution_count": 7,
   "id": "ce44b496",
   "metadata": {},
   "outputs": [],
   "source": [
    "#Converting string labels into numbers\n",
    "temp_encoded = le.fit_transform(temp)"
   ]
  },
  {
   "cell_type": "code",
   "execution_count": 8,
   "id": "752aa469",
   "metadata": {},
   "outputs": [
    {
     "data": {
      "text/plain": [
       "array([1, 1, 1, 2, 0, 0, 0, 2, 0, 2, 2, 2, 2, 1, 2])"
      ]
     },
     "execution_count": 8,
     "metadata": {},
     "output_type": "execute_result"
    }
   ],
   "source": [
    "temp_encoded"
   ]
  },
  {
   "cell_type": "code",
   "execution_count": 9,
   "id": "2de791f0",
   "metadata": {},
   "outputs": [],
   "source": [
    "#Converting string labels into numbers\n",
    "label_col = le.fit_transform(play)"
   ]
  },
  {
   "cell_type": "code",
   "execution_count": 10,
   "id": "f5e3054e",
   "metadata": {},
   "outputs": [
    {
     "data": {
      "text/plain": [
       "array([0, 0, 1, 1, 1, 0, 1, 0, 1, 1, 1, 1, 1, 0])"
      ]
     },
     "execution_count": 10,
     "metadata": {},
     "output_type": "execute_result"
    }
   ],
   "source": [
    "label_col"
   ]
  },
  {
   "cell_type": "code",
   "execution_count": 11,
   "id": "5833f189",
   "metadata": {},
   "outputs": [],
   "source": [
    "features=list(zip(wheathere_encoded,temp_encoded))"
   ]
  },
  {
   "cell_type": "code",
   "execution_count": 12,
   "id": "bfbb23b5",
   "metadata": {},
   "outputs": [
    {
     "data": {
      "text/plain": [
       "[(2, 1),\n",
       " (2, 1),\n",
       " (0, 1),\n",
       " (1, 2),\n",
       " (1, 0),\n",
       " (1, 0),\n",
       " (0, 0),\n",
       " (2, 2),\n",
       " (2, 0),\n",
       " (1, 2),\n",
       " (2, 2),\n",
       " (0, 2),\n",
       " (0, 2),\n",
       " (1, 1)]"
      ]
     },
     "execution_count": 12,
     "metadata": {},
     "output_type": "execute_result"
    }
   ],
   "source": [
    "features"
   ]
  },
  {
   "cell_type": "code",
   "execution_count": 13,
   "id": "06c26cca",
   "metadata": {},
   "outputs": [],
   "source": [
    "from sklearn.neighbors import KNeighborsClassifier\n",
    "model = KNeighborsClassifier(n_neighbors=3)"
   ]
  },
  {
   "cell_type": "code",
   "execution_count": 17,
   "id": "10a5bc90",
   "metadata": {},
   "outputs": [
    {
     "data": {
      "text/plain": [
       "KNeighborsClassifier(n_neighbors=3)"
      ]
     },
     "execution_count": 17,
     "metadata": {},
     "output_type": "execute_result"
    }
   ],
   "source": [
    "#Train the model using the training sets\n",
    "model.fit(features,label_col)"
   ]
  },
  {
   "cell_type": "code",
   "execution_count": null,
   "id": "a8ab7a30",
   "metadata": {},
   "outputs": [],
   "source": [
    "#Predict Output \n",
    "predicted = model.predict([[0,2]])\n"
   ]
  }
 ],
 "metadata": {
  "kernelspec": {
   "display_name": "Python 3 (ipykernel)",
   "language": "python",
   "name": "python3"
  },
  "language_info": {
   "codemirror_mode": {
    "name": "ipython",
    "version": 3
   },
   "file_extension": ".py",
   "mimetype": "text/x-python",
   "name": "python",
   "nbconvert_exporter": "python",
   "pygments_lexer": "ipython3",
   "version": "3.9.12"
  }
 },
 "nbformat": 4,
 "nbformat_minor": 5
}
